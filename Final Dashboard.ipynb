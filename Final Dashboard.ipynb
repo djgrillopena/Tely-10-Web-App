{
 "cells": [
  {
   "cell_type": "code",
   "execution_count": null,
   "metadata": {},
   "outputs": [],
   "source": [
    "import pandas as pd\n",
    "import dash\n",
    "from dash import html\n",
    "import plotly.graph_objects as go\n",
    "from dash import dash_table\n",
    "import plotly.express as px\n",
    "from dash import dcc\n",
    "import dash_bootstrap_components as dbc\n",
    "from dash.dependencies import Input,Output\n",
    "import numpy as np"
   ]
  },
  {
   "cell_type": "markdown",
   "metadata": {},
   "source": [
    "## Web App Definition"
   ]
  },
  {
   "cell_type": "code",
   "execution_count": null,
   "metadata": {},
   "outputs": [],
   "source": [
    "app = dash.Dash()"
   ]
  },
  {
   "cell_type": "markdown",
   "metadata": {},
   "source": [
    "## Perform transformations on main data set"
   ]
  },
  {
   "cell_type": "code",
   "execution_count": null,
   "metadata": {},
   "outputs": [],
   "source": [
    "df = pd.read_csv('tely10.csv')\n",
    "df = df.drop(['index'],axis=1)"
   ]
  },
  {
   "cell_type": "code",
   "execution_count": null,
   "metadata": {},
   "outputs": [],
   "source": [
    "gun_times = df['gun_time'].squeeze()\n",
    "chip_times = df['chip_time'].squeeze()"
   ]
  },
  {
   "cell_type": "code",
   "execution_count": null,
   "metadata": {},
   "outputs": [],
   "source": [
    "def fix_hour(value):\n",
    "    \n",
    "    if(len(value) < 7):\n",
    "        \n",
    "        value = '00:' + value\n",
    "        return value\n",
    "        \n",
    "    else:\n",
    "        \n",
    "        return value"
   ]
  },
  {
   "cell_type": "code",
   "execution_count": null,
   "metadata": {},
   "outputs": [],
   "source": [
    "new_gun_times = gun_times.apply(fix_hour)\n",
    "new_chip_times = chip_times.apply(fix_hour)"
   ]
  },
  {
   "cell_type": "code",
   "execution_count": null,
   "metadata": {},
   "outputs": [],
   "source": [
    "df['new_gun_times'] = new_gun_times\n",
    "df['new_chip_times'] = new_chip_times\n",
    "\n",
    "df['new_gun_times'] = pd.to_datetime(df['new_gun_times'])\n",
    "df['new_chip_times'] = pd.to_datetime(df['new_chip_times'])\n",
    "\n",
    "df = df.drop(['gun_time'],axis=1)\n",
    "df = df.drop(['chip_time'],axis=1)\n",
    "df = df.rename(columns={\"new_gun_times\": \"gun_time\", \"new_chip_times\": \"chip_time\"})"
   ]
  },
  {
   "cell_type": "code",
   "execution_count": null,
   "metadata": {},
   "outputs": [],
   "source": [
    "df['diff_seconds'] = (df.gun_time - df.chip_time).dt.seconds"
   ]
  },
  {
   "cell_type": "code",
   "execution_count": null,
   "metadata": {},
   "outputs": [],
   "source": [
    "def assign_gender(gender):\n",
    "    \n",
    "    if(gender == 'LM'):\n",
    "        \n",
    "        gender = 'Men'\n",
    "        return gender\n",
    "        \n",
    "    elif(gender == 'LF'):\n",
    "        \n",
    "        gender = 'Women'\n",
    "        return gender\n",
    "    \n",
    "    else:\n",
    "        \n",
    "        return"
   ]
  },
  {
   "cell_type": "code",
   "execution_count": null,
   "metadata": {},
   "outputs": [],
   "source": [
    "df['gender'] = df.division.str[:2]\n",
    "\n",
    "df['gender'] = df['gender'].apply(assign_gender)"
   ]
  },
  {
   "cell_type": "markdown",
   "metadata": {},
   "source": [
    "## Code for first plot"
   ]
  },
  {
   "cell_type": "code",
   "execution_count": null,
   "metadata": {},
   "outputs": [],
   "source": [
    "df_plot1 = df.groupby('year').count()\n",
    "df_plot1 = df_plot1.reset_index()\n",
    "df_plot1 = df_plot1[['year', 'overall_place']]\n",
    "df_plot1 = df_plot1.rename(columns={\"year\": \"Year\", \"overall_place\": \"Total Participants\"})\n",
    "\n",
    "df_plot1_m = df[df['gender'] == 'Men'].groupby('year').count()\n",
    "df_plot1_m = df_plot1_m.reset_index()\n",
    "df_plot1_m = df_plot1_m[['year', 'overall_place']]\n",
    "df_plot1_m = df_plot1_m.rename(columns={\"year\": \"Year\", \"overall_place\": \"Total Participants\"})\n",
    "\n",
    "df_plot1_w = df[df['gender'] == 'Women'].groupby('year').count()\n",
    "df_plot1_w = df_plot1_w.reset_index()\n",
    "df_plot1_w = df_plot1_w[['year', 'overall_place']]\n",
    "df_plot1_w = df_plot1_w.rename(columns={\"year\": \"Year\", \"overall_place\": \"Total Participants\"})"
   ]
  },
  {
   "cell_type": "code",
   "execution_count": null,
   "metadata": {},
   "outputs": [],
   "source": [
    "def line_chart(df, df1, df2):\n",
    "    \n",
    "    fig = go.Figure()\n",
    "    \n",
    "    \n",
    "    fig.add_trace(go.Scatter(x = df['Year'], y = df['Total Participants'],\\\n",
    "                             mode = 'lines+markers', name = 'Total Participants'))\n",
    "    \n",
    "    fig.add_trace(go.Scatter(x = df1['Year'], y = df1['Total Participants'],\\\n",
    "                             mode = 'lines+markers', name = 'Men'))\n",
    "    \n",
    "    fig.add_trace(go.Scatter(x = df2['Year'], y = df2['Total Participants'],\\\n",
    "                             mode = 'lines+markers', name = 'Women'))\n",
    "    \n",
    "    \n",
    "    fig.update_layout(title='Number of Participants per Year in Tely 10 Race',\n",
    "                      title_x = 0.5,\n",
    "                       xaxis_title='Years',\n",
    "                       yaxis_title='Number of Participants',\n",
    "                      font=dict(\n",
    "                        family=\"Arial\",\n",
    "                        size=18,\n",
    "                        color=\"black\"\n",
    "                        )\n",
    "                       )\n",
    "    \n",
    "    fig.add_annotation(x = 2017, y = 4354,\n",
    "                      text = 'Highest number of participants in the last 15 years (4354)',\n",
    "                      showarrow = True,\n",
    "                      arrowhead = 1,\n",
    "                      font=dict(\n",
    "                        family=\"Arial\",\n",
    "                        size=15,\n",
    "                        color=\"black\"\n",
    "                        )\n",
    "                       )\n",
    "    \n",
    "    fig.add_annotation(x = 2017, y = 2680,\n",
    "                      text = 'Highest number of women participants in the last 15 years (2680)',\n",
    "                      showarrow = True,\n",
    "                      arrowhead = 1,\n",
    "                      ay = -20,\n",
    "                      font=dict(\n",
    "                        family=\"Arial\",\n",
    "                        size=15,\n",
    "                        color=\"black\"\n",
    "                        )\n",
    "                       )\n",
    "    \n",
    "    fig.add_annotation(x = 2016, y = 1712,\n",
    "                      text = 'Highest number of men participants in the last 15 years (1712)',\n",
    "                      showarrow = True,\n",
    "                      arrowhead = 1,\n",
    "                      ay = 40,\n",
    "                      font=dict(\n",
    "                        family=\"Arial\",\n",
    "                        size=15,\n",
    "                        color=\"black\"\n",
    "                        )\n",
    "                       )\n",
    "    \n",
    "    return fig"
   ]
  },
  {
   "cell_type": "markdown",
   "metadata": {},
   "source": [
    "## Code for second plot"
   ]
  },
  {
   "cell_type": "code",
   "execution_count": null,
   "metadata": {},
   "outputs": [],
   "source": [
    "df_plot2 = df[['year', 'diff_seconds']]"
   ]
  },
  {
   "cell_type": "markdown",
   "metadata": {},
   "source": [
    "## Code for third plot"
   ]
  },
  {
   "cell_type": "code",
   "execution_count": null,
   "metadata": {},
   "outputs": [],
   "source": [
    "df_plot3 = df[['year', 'overall_place', 'name', 'chip_time']]\n",
    "\n",
    "df_plot3 = df_plot3[df_plot3['overall_place'] <= 10.0].reset_index()"
   ]
  },
  {
   "cell_type": "markdown",
   "metadata": {},
   "source": [
    "## Code for fourth plot"
   ]
  },
  {
   "cell_type": "code",
   "execution_count": null,
   "metadata": {},
   "outputs": [],
   "source": [
    "df_plot4 = df[['year', 'overall_place', 'gender_place', 'chip_time', 'division', 'gender']]\n",
    "\n",
    "df_plot4 = df_plot4.dropna()\n",
    "\n",
    "df_plot4_men = df_plot4[(df_plot4.gender_place == 1.0) & (df_plot4.gender == 'Men')].reset_index()\n",
    "\n",
    "df_plot4_men = df_plot4_men.drop(['index'],axis=1)\n",
    "\n",
    "df_plot4_women = df_plot4[(df_plot4.gender_place == 1.0) & (df_plot4.gender == 'Women')].reset_index()\n",
    "\n",
    "df_plot4_women = df_plot4_women.drop(['index'],axis=1)"
   ]
  },
  {
   "cell_type": "code",
   "execution_count": null,
   "metadata": {},
   "outputs": [],
   "source": [
    "def line_chart4_mw(df):\n",
    "    \n",
    "    fig = go.Figure()\n",
    "    \n",
    "    df_plot4_men = df[(df.gender_place == 1.0) & (df.gender == 'Men')]\n",
    "    df_plot4_women = df[(df.gender_place == 1.0) & (df.gender == 'Women')]\n",
    "    \n",
    "    fig.add_trace(go.Scatter(x = df_plot4_men['year'], y = df_plot4_men['chip_time'],\\\n",
    "                             mode = 'lines+markers', name = 'Men'))\n",
    "    \n",
    "    fig.add_trace(go.Scatter(x = df_plot4_women['year'], y = df_plot4_women['chip_time'],\\\n",
    "                             mode = 'lines+markers', name = 'Women'))\n",
    "    \n",
    "    fig.update_layout(title=\"Best Time per Year For Both Men and Women\",\n",
    "                      title_x = 0.5,\n",
    "                       xaxis_title='Years',\n",
    "                       yaxis_title='Time',\n",
    "                      font=dict(\n",
    "                        family=\"Arial\",\n",
    "                        size=18,\n",
    "                        color=\"black\"\n",
    "                        )\n",
    "                       )\n",
    "    \n",
    "    fig.add_annotation(x = 2019, y = df_plot4_women['chip_time'].min(),\n",
    "                      text = 'Lowest female time recorded in the last 15 years (54:24)',\n",
    "                      showarrow = True,\n",
    "                      arrowhead = 1,\n",
    "                      ay = -120,\n",
    "                      font=dict(\n",
    "                        family=\"Arial\",\n",
    "                        size=15,\n",
    "                        color=\"black\"\n",
    "                        )\n",
    "                       )\n",
    "    \n",
    "    fig.add_annotation(x = 2012, y = df_plot4_men['chip_time'].min(),\n",
    "                      text = 'Lowest male time recorded in the last 15 years (48:09)',\n",
    "                      showarrow = True,\n",
    "                      arrowhead = 1,\n",
    "                      ay = -80,\n",
    "                      font=dict(\n",
    "                        family=\"Arial\",\n",
    "                        size=15,\n",
    "                        color=\"black\"\n",
    "                        )\n",
    "                       )\n",
    "    \n",
    "    return fig"
   ]
  },
  {
   "cell_type": "markdown",
   "metadata": {},
   "source": [
    "## Dashboard Web App Building"
   ]
  },
  {
   "cell_type": "code",
   "execution_count": null,
   "metadata": {},
   "outputs": [],
   "source": [
    "app.layout = html.Div(id = 'parent', children = [\n",
    "    \n",
    "    html.Div(id = 'H1', children = 'Tely 10 Race Dashboard', style = {'color':'black', 'fontSize':'50px',\\\n",
    "                                                                      'fontFamily':'Arial', 'text-align': 'center',\\\n",
    "                                                                     'marginTop':40,'marginBottom':40,\\\n",
    "                                                                           'text-decoration':'underline'}),\n",
    "    \n",
    "    html.Br(),\n",
    "    \n",
    "    html.H1(id = 'H1_p1', children = 'Growth of Tely 10 Race Over The Years', style = {'textAlign':'center',\\\n",
    "                                            'marginTop':40,'marginBottom':40}),\n",
    "    \n",
    "    html.Div(id = 'line_div_1', children = [dcc.Graph(id = 'line_plot_1', figure = line_chart(df_plot1, df_plot1_m, df_plot1_w))],style = {'width':'100%','display':'inline-block'}),\n",
    "    \n",
    "    html.Br(),\n",
    "    \n",
    "    html.H1(id = 'H1_p2', children = 'Accuracy of Time Records Between Gun Time and Chip Time', style = {'textAlign':'center',\\\n",
    "                                            'marginTop':40,'marginBottom':40}),\n",
    "    \n",
    "    html.Div([\n",
    "                dcc.Dropdown( id = 'year-dropdown', options = [{'label':i, 'value':i} for i in np.append(['All'],df_plot2['year'].unique()) ],\n",
    "                 value = 'All', placeholder = 'Select the year', style = {'width':'100%', 'display':'inline-block'}),\n",
    "        \n",
    "                dcc.Graph(id=\"graph\"),\n",
    "            ]),\n",
    "    \n",
    "    html.Br(),\n",
    "    html.Br(),\n",
    "    \n",
    "    html.H1(id = 'H1_p3', children = 'Times Recorded for Top 10 Participants', style = {'textAlign':'center',\\\n",
    "                                            'marginTop':40,'marginBottom':40}),\n",
    "    \n",
    "    html.Div([\n",
    "                dcc.Dropdown( id = 'year-dropdown_2', options = [{'label':i, 'value':i} for i in np.append(['All'],df_plot3['year'].unique()) ],\n",
    "                 value = 'All', placeholder = 'Select the year', style = {'width':'100%', 'display':'inline-block'}),\n",
    "        \n",
    "                dcc.Graph(id=\"graph_2\"),\n",
    "            ]),\n",
    "    \n",
    "    html.Br(),\n",
    "    html.Br(),\n",
    "    \n",
    "    html.H1(id = 'H1_p4', children = \"\"\"Changes in Winner's Times\"\"\", style = {'textAlign':'center',\\\n",
    "                                            'marginTop':40,'marginBottom':40}),\n",
    "    \n",
    "    html.Div(id = 'line_div_4_w', children = [dcc.Graph(id = 'line_plot_4_w', figure = line_chart4_mw(df_plot4))],style = {'width':'100%','display':'inline-block'})\n",
    "\n",
    "\n",
    "])"
   ]
  },
  {
   "cell_type": "markdown",
   "metadata": {},
   "source": [
    "## Callback funtion for second plot"
   ]
  },
  {
   "cell_type": "code",
   "execution_count": null,
   "metadata": {},
   "outputs": [],
   "source": [
    "@app.callback(Output(\"graph\", \"figure\"), \n",
    "             Input(\"year-dropdown\", \"value\"))\n",
    "              \n",
    "def display_hist(year):\n",
    "   \n",
    "    if year == 'All':\n",
    "        filtered_df = df_plot2\n",
    "    else :\n",
    "        filtered_df = df_plot2[df_plot2['year'] == int(year)]\n",
    "\n",
    "    fig = go.Figure(data=[go.Histogram(x=filtered_df['diff_seconds'], xbins_size = 5)])\n",
    "    \n",
    "    if(year == 'All'):\n",
    "        \n",
    "        year = year + \" years\"\n",
    "        \n",
    "    fig.update_traces(marker_color=\"#69EE5F\")\n",
    "\n",
    "    fig.update_layout(title='Difference in Time Between Gun Time and Chip Time in {}'.format(year),\n",
    "                  title_x = 0.5,\n",
    "                   xaxis_title= 'Gun Time - Chip Time (s)',\n",
    "                  font=dict(\n",
    "                    family=\"Arial\",\n",
    "                    size=18,\n",
    "                    color=\"black\"\n",
    "                    )\n",
    "                   )\n",
    "\n",
    "    fig.update(layout_xaxis_range = [0,360])\n",
    "\n",
    "    fig.show()\n",
    "\n",
    "    return fig"
   ]
  },
  {
   "cell_type": "markdown",
   "metadata": {},
   "source": [
    "## Callback function for plot 3"
   ]
  },
  {
   "cell_type": "code",
   "execution_count": null,
   "metadata": {},
   "outputs": [],
   "source": [
    "@app.callback(Output(\"graph_2\", \"figure\"), \n",
    "             Input(\"year-dropdown_2\", \"value\"))\n",
    "              \n",
    "def display_bar(year):\n",
    "   \n",
    "    if year == 'All':\n",
    "        #filtered_df = df_plot3.sort_values(by = 'chip_time', ascending = True)\n",
    "        #filtered_df = filtered_df.head(10)\n",
    "        filtered_df = df_plot3.sort_values(by = 'chip_time').drop_duplicates(subset = ['name']).head(10)\n",
    "        \n",
    "    else :\n",
    "        filtered_df = df_plot3[df_plot3['year'] == int(year)]\n",
    "\n",
    "    fig = go.Figure(data=[go.Bar(x=filtered_df['name'], y = filtered_df['chip_time'])])\n",
    "\n",
    "    fig.update_layout(title='Times Recorded for Top 10 Participants',\n",
    "                  title_x = 0.5,\n",
    "                   xaxis_title= 'Names of Participants',\n",
    "                   yaxis_title= 'Time Recorded',\n",
    "                   height = 600,\n",
    "                  font=dict(\n",
    "                    family=\"Arial\",\n",
    "                    size=18,\n",
    "                    color=\"black\"\n",
    "                    ),\n",
    "                    xaxis_tickangle = -90\n",
    "                   )\n",
    "    fig.show()\n",
    "\n",
    "    return fig"
   ]
  },
  {
   "cell_type": "code",
   "execution_count": null,
   "metadata": {},
   "outputs": [],
   "source": [
    "if __name__ == '__main__': \n",
    "    app.run_server()"
   ]
  }
 ],
 "metadata": {
  "kernelspec": {
   "display_name": "Python 3",
   "language": "python",
   "name": "python3"
  },
  "language_info": {
   "codemirror_mode": {
    "name": "ipython",
    "version": 3
   },
   "file_extension": ".py",
   "mimetype": "text/x-python",
   "name": "python",
   "nbconvert_exporter": "python",
   "pygments_lexer": "ipython3",
   "version": "3.8.5"
  }
 },
 "nbformat": 4,
 "nbformat_minor": 4
}
